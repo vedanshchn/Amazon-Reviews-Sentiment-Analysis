{
  "cells": [
    {
      "cell_type": "markdown",
      "id": "d377521a-22eb-4df2-9e66-26e5c4fbd117",
      "metadata": {
        "id": "d377521a-22eb-4df2-9e66-26e5c4fbd117"
      },
      "source": [
        "# Task 1: Sentiment Analysis"
      ]
    },
    {
      "cell_type": "markdown",
      "id": "3bc26198-8dc1-4209-97e3-d2f69521ba3b",
      "metadata": {
        "id": "3bc26198-8dc1-4209-97e3-d2f69521ba3b"
      },
      "source": [
        "# Contents:\n",
        "- [Introduction](#section-one)\n",
        "- [Stage 1: Data Acquisition](#section-two)\n",
        "- [Stage 2: Data Preprocessing](#section-three)\n",
        "- [Stage 3: Model Building and Training](#section-four)\n",
        "- [Stage 4: Model Testing](#section-five)\n",
        "- [Conclusion](#section-six)"
      ]
    },
    {
      "cell_type": "markdown",
      "id": "bcda39b4-ceff-4031-94f2-ff0c398c2e38",
      "metadata": {
        "jp-MarkdownHeadingCollapsed": true,
        "id": "bcda39b4-ceff-4031-94f2-ff0c398c2e38"
      },
      "source": [
        "## Introduction <a id=\"section-one\"></a>\n",
        "The world has rapidly embraced e-commerce platforms, leading to a significant boom in online shopping. In recent times, an increasing number of people are taking advantage of the convenience of shopping from their homes. The rise in e-commerce platforms has resulted in a reduction in the number of middlemen, allowing goods to be offered at competitive prices with regular discounts.\n",
        "\n",
        "However, the primary drawback of online shopping has been the lack of physical touch and inspection before purchasing a product. This is where the concept of leaving reviews acts as a savior. Reviews play a crucial role in helping potential customers make informed purchasing decisions. A typical review consists of a rating (usually out of 5), a title/summary, and the main body of the review.\n",
        "\n",
        "While it may seem that reviews are primarily beneficial for potential customers, they also hold significant importance for companies aiming to enhance their products and services through analysis. However, manually inspecting individual reviews can feel like a perpetual task. This is where Sentiment Analysis in the field of Natural Language Processing (NLP) can truly work wonders.\n",
        "\n",
        "### What is sentiment analysis?\n",
        "Sentiment Analysis is a commonly used text classification tool in the field of Natural Language Processing (NLP) that analyzes text and tries to detect the underlying sentiment. It's also known as opinion mining. Businesses can leverage this information to improve their products and services, as the sentiments are conveyed directly by the end consumers. E-commerce has made obtaining direct feedback from customers a breeze, as almost all online shopping websites allow dropping reviews. With Sentiment Analysis, customer feedback can be analyzed in bulk to improvise products and services for better customer satisfaction.\n",
        "\n",
        "### Problem statement\n",
        "The objective of this research project is to explore and analyze customer reviews in the e-commerce domain using Natural Language Processing (NLP) techniques. The growing importance of customer reviews in the decision-making process of online shoppers has made sentiment analysis and opinion mining crucial for e-commerce businesses. By employing NLP methods on a large corpus of e-commerce reviews, this research aims to extract valuable insights, sentiment patterns, and consumer preferences to help businesses make data-driven decisions and improve customer satisfaction.\n",
        "\n",
        "### Objectives of Project\n",
        "This research aims to contribute to the field of NLP and help e-commerce businesses make informed decisions to enhance customer satisfaction and overall performance."
      ]
    },
    {
      "cell_type": "markdown",
      "id": "747988cc-22b5-43c2-9927-3b777e381807",
      "metadata": {
        "id": "747988cc-22b5-43c2-9927-3b777e381807"
      },
      "source": [
        "# Stage 1: DATA ACQUISITION <a id=\"section-two\"></a>\n",
        "Objectives:\n",
        "- Importing the necessary libraries\n",
        "- Importing the dataset\n",
        "- Explorarory Data Analysis"
      ]
    },
    {
      "cell_type": "markdown",
      "id": "4a9ad701-aa2a-45d5-b69f-82942bb10192",
      "metadata": {
        "id": "4a9ad701-aa2a-45d5-b69f-82942bb10192"
      },
      "source": [
        "## Importing the necessary libraries"
      ]
    },
    {
      "cell_type": "code",
      "execution_count": null,
      "id": "b7e6806c-7ca0-4095-ab7c-8bd37ef2b9d0",
      "metadata": {
        "id": "b7e6806c-7ca0-4095-ab7c-8bd37ef2b9d0"
      },
      "outputs": [],
      "source": [
        "#Basic Libraries\n",
        "import numpy as np\n",
        "import pandas as pd\n",
        "import pickle\n",
        "\n",
        "#Visualization\n",
        "import seaborn as sns\n",
        "import matplotlib.pyplot as plt\n",
        "from wordcloud import WordCloud\n",
        "\n",
        "#Preprocessing\n",
        "import re\n",
        "import string\n",
        "import spacy\n",
        "from sklearn.model_selection import train_test_split\n",
        "from sklearn.feature_extraction.text import TfidfVectorizer\n",
        "from scipy.sparse import hstack\n",
        "from imblearn.over_sampling import SMOTE\n",
        "from sklearn.model_selection import StratifiedKFold\n",
        "\n",
        "#Modeling\n",
        "from sklearn.svm import SVC\n",
        "from sklearn.linear_model import LogisticRegression\n",
        "from sklearn.tree import DecisionTreeClassifier\n",
        "from sklearn.naive_bayes import MultinomialNB\n",
        "from sklearn.ensemble import RandomForestClassifier\n",
        "from xgboost import XGBClassifier\n",
        "from sklearn.model_selection import GridSearchCV\n",
        "from sklearn.metrics import f1_score, classification_report\n",
        "from sklearn.metrics import accuracy_score"
      ]
    },
    {
      "cell_type": "markdown",
      "id": "ec65a240-e187-4b2a-9cc6-54d22c7703ee",
      "metadata": {
        "id": "ec65a240-e187-4b2a-9cc6-54d22c7703ee"
      },
      "source": [
        "## Importing the database"
      ]
    },
    {
      "cell_type": "code",
      "execution_count": null,
      "id": "86b65807-18d8-42ee-8b61-cf50823565c3",
      "metadata": {
        "id": "86b65807-18d8-42ee-8b61-cf50823565c3"
      },
      "outputs": [],
      "source": [
        "reviews = pd.read_csv('/Users/vedansh/Documents/Projects/Internship 1/reviews_amazon.csv')"
      ]
    },
    {
      "cell_type": "markdown",
      "id": "2c14ea45-fd8f-45de-ba79-3bd0896432a7",
      "metadata": {
        "id": "2c14ea45-fd8f-45de-ba79-3bd0896432a7"
      },
      "source": [
        "Source of the dataset:\n",
        "https://www.kaggle.com/datasets/jillanisofttech/amazon-product-reviews"
      ]
    },
    {
      "cell_type": "markdown",
      "id": "6cff4aa7",
      "metadata": {
        "id": "6cff4aa7"
      },
      "source": [
        "## Exploratory Data Analysis (EDA)"
      ]
    },
    {
      "cell_type": "code",
      "execution_count": null,
      "id": "c4900d13",
      "metadata": {
        "id": "c4900d13",
        "outputId": "a2c734c7-6018-49dc-f752-c4f6d877a866"
      },
      "outputs": [
        {
          "data": {
            "text/html": [
              "<div>\n",
              "<style scoped>\n",
              "    .dataframe tbody tr th:only-of-type {\n",
              "        vertical-align: middle;\n",
              "    }\n",
              "\n",
              "    .dataframe tbody tr th {\n",
              "        vertical-align: top;\n",
              "    }\n",
              "\n",
              "    .dataframe thead th {\n",
              "        text-align: right;\n",
              "    }\n",
              "</style>\n",
              "<table border=\"1\" class=\"dataframe\">\n",
              "  <thead>\n",
              "    <tr style=\"text-align: right;\">\n",
              "      <th></th>\n",
              "      <th>Id</th>\n",
              "      <th>ProductId</th>\n",
              "      <th>UserId</th>\n",
              "      <th>ProfileName</th>\n",
              "      <th>HelpfulnessNumerator</th>\n",
              "      <th>HelpfulnessDenominator</th>\n",
              "      <th>Score</th>\n",
              "      <th>Time</th>\n",
              "      <th>Summary</th>\n",
              "      <th>Text</th>\n",
              "    </tr>\n",
              "  </thead>\n",
              "  <tbody>\n",
              "    <tr>\n",
              "      <th>0</th>\n",
              "      <td>1</td>\n",
              "      <td>B001E4KFG0</td>\n",
              "      <td>A3SGXH7AUHU8GW</td>\n",
              "      <td>delmartian</td>\n",
              "      <td>1</td>\n",
              "      <td>1</td>\n",
              "      <td>5</td>\n",
              "      <td>1303862400</td>\n",
              "      <td>Good Quality Dog Food</td>\n",
              "      <td>I have bought several of the Vitality canned d...</td>\n",
              "    </tr>\n",
              "    <tr>\n",
              "      <th>1</th>\n",
              "      <td>2</td>\n",
              "      <td>B00813GRG4</td>\n",
              "      <td>A1D87F6ZCVE5NK</td>\n",
              "      <td>dll pa</td>\n",
              "      <td>0</td>\n",
              "      <td>0</td>\n",
              "      <td>1</td>\n",
              "      <td>1346976000</td>\n",
              "      <td>Not as Advertised</td>\n",
              "      <td>Product arrived labeled as Jumbo Salted Peanut...</td>\n",
              "    </tr>\n",
              "    <tr>\n",
              "      <th>2</th>\n",
              "      <td>3</td>\n",
              "      <td>B000LQOCH0</td>\n",
              "      <td>ABXLMWJIXXAIN</td>\n",
              "      <td>Natalia Corres \"Natalia Corres\"</td>\n",
              "      <td>1</td>\n",
              "      <td>1</td>\n",
              "      <td>4</td>\n",
              "      <td>1219017600</td>\n",
              "      <td>\"Delight\" says it all</td>\n",
              "      <td>This is a confection that has been around a fe...</td>\n",
              "    </tr>\n",
              "  </tbody>\n",
              "</table>\n",
              "</div>"
            ],
            "text/plain": [
              "   Id   ProductId          UserId                      ProfileName  \\\n",
              "0   1  B001E4KFG0  A3SGXH7AUHU8GW                       delmartian   \n",
              "1   2  B00813GRG4  A1D87F6ZCVE5NK                           dll pa   \n",
              "2   3  B000LQOCH0   ABXLMWJIXXAIN  Natalia Corres \"Natalia Corres\"   \n",
              "\n",
              "   HelpfulnessNumerator  HelpfulnessDenominator  Score        Time  \\\n",
              "0                     1                       1      5  1303862400   \n",
              "1                     0                       0      1  1346976000   \n",
              "2                     1                       1      4  1219017600   \n",
              "\n",
              "                 Summary                                               Text  \n",
              "0  Good Quality Dog Food  I have bought several of the Vitality canned d...  \n",
              "1      Not as Advertised  Product arrived labeled as Jumbo Salted Peanut...  \n",
              "2  \"Delight\" says it all  This is a confection that has been around a fe...  "
            ]
          },
          "execution_count": 3,
          "metadata": {},
          "output_type": "execute_result"
        }
      ],
      "source": [
        "reviews.head(n=3)"
      ]
    },
    {
      "cell_type": "code",
      "execution_count": null,
      "id": "2cfa96d5",
      "metadata": {
        "id": "2cfa96d5",
        "outputId": "639acaf0-8cab-4e88-f3d9-b0273d2bcdb3"
      },
      "outputs": [
        {
          "data": {
            "text/html": [
              "<div>\n",
              "<style scoped>\n",
              "    .dataframe tbody tr th:only-of-type {\n",
              "        vertical-align: middle;\n",
              "    }\n",
              "\n",
              "    .dataframe tbody tr th {\n",
              "        vertical-align: top;\n",
              "    }\n",
              "\n",
              "    .dataframe thead th {\n",
              "        text-align: right;\n",
              "    }\n",
              "</style>\n",
              "<table border=\"1\" class=\"dataframe\">\n",
              "  <thead>\n",
              "    <tr style=\"text-align: right;\">\n",
              "      <th></th>\n",
              "      <th>Id</th>\n",
              "      <th>ProductId</th>\n",
              "      <th>UserId</th>\n",
              "      <th>ProfileName</th>\n",
              "      <th>HelpfulnessNumerator</th>\n",
              "      <th>HelpfulnessDenominator</th>\n",
              "      <th>Score</th>\n",
              "      <th>Time</th>\n",
              "      <th>Summary</th>\n",
              "      <th>Text</th>\n",
              "    </tr>\n",
              "  </thead>\n",
              "  <tbody>\n",
              "    <tr>\n",
              "      <th>568451</th>\n",
              "      <td>568452</td>\n",
              "      <td>B004I613EE</td>\n",
              "      <td>A121AA1GQV751Z</td>\n",
              "      <td>pksd \"pk_007\"</td>\n",
              "      <td>2</td>\n",
              "      <td>2</td>\n",
              "      <td>5</td>\n",
              "      <td>1329782400</td>\n",
              "      <td>Perfect for our maltipoo</td>\n",
              "      <td>These stars are small, so you can give 10-15 o...</td>\n",
              "    </tr>\n",
              "    <tr>\n",
              "      <th>568452</th>\n",
              "      <td>568453</td>\n",
              "      <td>B004I613EE</td>\n",
              "      <td>A3IBEVCTXKNOH</td>\n",
              "      <td>Kathy A. Welch \"katwel\"</td>\n",
              "      <td>1</td>\n",
              "      <td>1</td>\n",
              "      <td>5</td>\n",
              "      <td>1331596800</td>\n",
              "      <td>Favorite Training and reward treat</td>\n",
              "      <td>These are the BEST treats for training and rew...</td>\n",
              "    </tr>\n",
              "    <tr>\n",
              "      <th>568453</th>\n",
              "      <td>568454</td>\n",
              "      <td>B001LR2CU2</td>\n",
              "      <td>A3LGQPJCZVL9UC</td>\n",
              "      <td>srfell17</td>\n",
              "      <td>0</td>\n",
              "      <td>0</td>\n",
              "      <td>5</td>\n",
              "      <td>1338422400</td>\n",
              "      <td>Great Honey</td>\n",
              "      <td>I am very satisfied ,product is as advertised,...</td>\n",
              "    </tr>\n",
              "  </tbody>\n",
              "</table>\n",
              "</div>"
            ],
            "text/plain": [
              "            Id   ProductId          UserId              ProfileName  \\\n",
              "568451  568452  B004I613EE  A121AA1GQV751Z            pksd \"pk_007\"   \n",
              "568452  568453  B004I613EE   A3IBEVCTXKNOH  Kathy A. Welch \"katwel\"   \n",
              "568453  568454  B001LR2CU2  A3LGQPJCZVL9UC                 srfell17   \n",
              "\n",
              "        HelpfulnessNumerator  HelpfulnessDenominator  Score        Time  \\\n",
              "568451                     2                       2      5  1329782400   \n",
              "568452                     1                       1      5  1331596800   \n",
              "568453                     0                       0      5  1338422400   \n",
              "\n",
              "                                   Summary  \\\n",
              "568451            Perfect for our maltipoo   \n",
              "568452  Favorite Training and reward treat   \n",
              "568453                         Great Honey   \n",
              "\n",
              "                                                     Text  \n",
              "568451  These stars are small, so you can give 10-15 o...  \n",
              "568452  These are the BEST treats for training and rew...  \n",
              "568453  I am very satisfied ,product is as advertised,...  "
            ]
          },
          "execution_count": 4,
          "metadata": {},
          "output_type": "execute_result"
        }
      ],
      "source": [
        "reviews.tail(n=3)"
      ]
    },
    {
      "cell_type": "code",
      "execution_count": null,
      "id": "22cce6eb",
      "metadata": {
        "id": "22cce6eb",
        "outputId": "3c2d6370-f68e-470a-bfe9-d0b660c1e8d8"
      },
      "outputs": [
        {
          "data": {
            "text/plain": [
              "(568454, 10)"
            ]
          },
          "execution_count": 5,
          "metadata": {},
          "output_type": "execute_result"
        }
      ],
      "source": [
        "#Reviewing the number of rows and columns\n",
        "reviews.shape"
      ]
    },
    {
      "cell_type": "code",
      "execution_count": null,
      "id": "436ee43f",
      "metadata": {
        "id": "436ee43f",
        "outputId": "28336d28-3f6a-436e-da14-2762fdd1d714"
      },
      "outputs": [
        {
          "data": {
            "text/plain": [
              "Index(['Id', 'ProductId', 'UserId', 'ProfileName', 'HelpfulnessNumerator',\n",
              "       'HelpfulnessDenominator', 'Score', 'Time', 'Summary', 'Text'],\n",
              "      dtype='object')"
            ]
          },
          "execution_count": 6,
          "metadata": {},
          "output_type": "execute_result"
        }
      ],
      "source": [
        "#Reviewing the various column names\n",
        "reviews.columns"
      ]
    },
    {
      "cell_type": "code",
      "execution_count": null,
      "id": "1bc2c458",
      "metadata": {
        "id": "1bc2c458",
        "outputId": "494e2252-db87-4e3a-8e81-03da48543d8b"
      },
      "outputs": [
        {
          "name": "stdout",
          "output_type": "stream",
          "text": [
            "<class 'pandas.core.frame.DataFrame'>\n",
            "RangeIndex: 568454 entries, 0 to 568453\n",
            "Data columns (total 3 columns):\n",
            " #   Column   Non-Null Count   Dtype \n",
            "---  ------   --------------   ----- \n",
            " 0   Score    568454 non-null  int64 \n",
            " 1   Summary  568427 non-null  object\n",
            " 2   Text     568454 non-null  object\n",
            "dtypes: int64(1), object(2)\n",
            "memory usage: 13.0+ MB\n"
          ]
        }
      ],
      "source": [
        "#Checking if the required columns have any null values\n",
        "columns_needed = ['Score', 'Summary', 'Text']\n",
        "reviews[columns_needed].info()"
      ]
    },
    {
      "cell_type": "markdown",
      "id": "e4900977",
      "metadata": {
        "id": "e4900977"
      },
      "source": [
        "#### *Looks like some people omitted summaries for their reviews which wouldn't be a problem as I'll be concating the two columns.*"
      ]
    },
    {
      "cell_type": "markdown",
      "id": "f98ab90f",
      "metadata": {
        "id": "f98ab90f"
      },
      "source": [
        "# Stage 2: DATA PREPROCESSING <a id=\"section-three\"></a>\n",
        "Objectives:\n",
        "- Feature Engineering\n",
        "- Text Cleaning\n",
        "- Class Balancing"
      ]
    },
    {
      "cell_type": "markdown",
      "id": "192e806c-6b39-45c9-9e32-723827aa86be",
      "metadata": {
        "id": "192e806c-6b39-45c9-9e32-723827aa86be"
      },
      "source": [
        "## Feature Engineering"
      ]
    },
    {
      "cell_type": "code",
      "execution_count": null,
      "id": "3ff5817a",
      "metadata": {
        "id": "3ff5817a",
        "outputId": "0c8d504b-3492-47ee-ee31-6ecc77488b5c"
      },
      "outputs": [
        {
          "data": {
            "text/plain": [
              "Index(['Score', 'Summary', 'Text'], dtype='object')"
            ]
          },
          "execution_count": 8,
          "metadata": {},
          "output_type": "execute_result"
        }
      ],
      "source": [
        "#Removing unnecessary columns\n",
        "reviews.drop(reviews.columns.difference(columns_needed), axis = 1, inplace = True)\n",
        "reviews.columns"
      ]
    },
    {
      "cell_type": "markdown",
      "id": "85a79120",
      "metadata": {
        "id": "85a79120"
      },
      "source": [
        "#### Converting Scores 0 to 5 into Sentiments as follows:\n",
        "- \"0\" indicates Negative Sentiment (Ratings: 0, 1 and 2)\n",
        "- \"1\" indicates Neutral Sentiment (Rating: 3)\n",
        "- \"2\" indicates Positive Sentiment (Ratings: 4 and 5)"
      ]
    },
    {
      "cell_type": "code",
      "execution_count": null,
      "id": "fd6dadc6",
      "metadata": {
        "id": "fd6dadc6",
        "outputId": "844cc9af-e0cf-4e03-b8f5-8f65ce171e89"
      },
      "outputs": [
        {
          "data": {
            "text/plain": [
              "int"
            ]
          },
          "execution_count": 9,
          "metadata": {},
          "output_type": "execute_result"
        }
      ],
      "source": [
        "#Label Encoding\n",
        "sentiment_mapping = {0:0, 1:0, 2:0, 3:1, 4:2, 5:2}\n",
        "\n",
        "#Ensuring that the mapped datapoints are numerics and not strings\n",
        "type(sentiment_mapping[1])"
      ]
    },
    {
      "cell_type": "code",
      "execution_count": null,
      "id": "6c4d2120",
      "metadata": {
        "id": "6c4d2120",
        "outputId": "71c78929-7f66-4210-e8a4-df756e61ebb5"
      },
      "outputs": [
        {
          "data": {
            "text/html": [
              "<div>\n",
              "<style scoped>\n",
              "    .dataframe tbody tr th:only-of-type {\n",
              "        vertical-align: middle;\n",
              "    }\n",
              "\n",
              "    .dataframe tbody tr th {\n",
              "        vertical-align: top;\n",
              "    }\n",
              "\n",
              "    .dataframe thead th {\n",
              "        text-align: right;\n",
              "    }\n",
              "</style>\n",
              "<table border=\"1\" class=\"dataframe\">\n",
              "  <thead>\n",
              "    <tr style=\"text-align: right;\">\n",
              "      <th></th>\n",
              "      <th>Summary</th>\n",
              "      <th>Text</th>\n",
              "      <th>Sentiment</th>\n",
              "    </tr>\n",
              "  </thead>\n",
              "  <tbody>\n",
              "    <tr>\n",
              "      <th>0</th>\n",
              "      <td>Good Quality Dog Food</td>\n",
              "      <td>I have bought several of the Vitality canned d...</td>\n",
              "      <td>2</td>\n",
              "    </tr>\n",
              "    <tr>\n",
              "      <th>1</th>\n",
              "      <td>Not as Advertised</td>\n",
              "      <td>Product arrived labeled as Jumbo Salted Peanut...</td>\n",
              "      <td>0</td>\n",
              "    </tr>\n",
              "    <tr>\n",
              "      <th>2</th>\n",
              "      <td>\"Delight\" says it all</td>\n",
              "      <td>This is a confection that has been around a fe...</td>\n",
              "      <td>2</td>\n",
              "    </tr>\n",
              "    <tr>\n",
              "      <th>3</th>\n",
              "      <td>Cough Medicine</td>\n",
              "      <td>If you are looking for the secret ingredient i...</td>\n",
              "      <td>0</td>\n",
              "    </tr>\n",
              "    <tr>\n",
              "      <th>4</th>\n",
              "      <td>Great taffy</td>\n",
              "      <td>Great taffy at a great price.  There was a wid...</td>\n",
              "      <td>2</td>\n",
              "    </tr>\n",
              "  </tbody>\n",
              "</table>\n",
              "</div>"
            ],
            "text/plain": [
              "                 Summary                                               Text  \\\n",
              "0  Good Quality Dog Food  I have bought several of the Vitality canned d...   \n",
              "1      Not as Advertised  Product arrived labeled as Jumbo Salted Peanut...   \n",
              "2  \"Delight\" says it all  This is a confection that has been around a fe...   \n",
              "3         Cough Medicine  If you are looking for the secret ingredient i...   \n",
              "4            Great taffy  Great taffy at a great price.  There was a wid...   \n",
              "\n",
              "   Sentiment  \n",
              "0          2  \n",
              "1          0  \n",
              "2          2  \n",
              "3          0  \n",
              "4          2  "
            ]
          },
          "execution_count": 10,
          "metadata": {},
          "output_type": "execute_result"
        }
      ],
      "source": [
        "#Creating a new column 'Sentiment' with the mapped scores\n",
        "reviews['Sentiment'] = reviews['Score'].map(sentiment_mapping)\n",
        "\n",
        "#Removing the score column after Label Encoding\n",
        "reviews.drop('Score', axis =1, inplace=True)\n",
        "reviews.head()"
      ]
    },
    {
      "cell_type": "markdown",
      "id": "9e63273a",
      "metadata": {
        "id": "9e63273a"
      },
      "source": [
        "## Text Cleaning"
      ]
    },
    {
      "cell_type": "code",
      "execution_count": null,
      "id": "de9e6b85",
      "metadata": {
        "id": "de9e6b85",
        "outputId": "7caf530d-38ad-4a56-d2a1-f466a58b99b8"
      },
      "outputs": [
        {
          "data": {
            "text/plain": [
              "(173484, 3)"
            ]
          },
          "execution_count": 11,
          "metadata": {},
          "output_type": "execute_result"
        }
      ],
      "source": [
        "#### Checking for duplicate rows in the data\n",
        "dup = reviews[reviews[['Summary', 'Text']].duplicated()]\n",
        "dup.shape"
      ]
    },
    {
      "cell_type": "markdown",
      "id": "25b394f2",
      "metadata": {
        "id": "25b394f2"
      },
      "source": [
        "Observations:\n",
        "- Looks like there are some duplicate rows in this dataset as well as some missing values in the \"Summary\" column which need to be dealth with.\n",
        "- Since I'll be combining the \"Summary\" and \"Text\" columns for further analysis, I wouldn't be removing the rows with empty Summaries as some people might have written a review while omitting the summary section which is common and not a problem at all. However, I'll be removing the duplicate datapoints."
      ]
    },
    {
      "cell_type": "code",
      "execution_count": null,
      "id": "b7a17d6d",
      "metadata": {
        "id": "b7a17d6d",
        "outputId": "d5b093eb-9925-42a9-8317-227c415158bf"
      },
      "outputs": [
        {
          "name": "stdout",
          "output_type": "stream",
          "text": [
            "ROW COUNTS:\n",
            "Before removing duplicates(rows, columns): (568454, 3)\n",
            "After removing duplicates(rows, columns): (394970, 3)\n"
          ]
        }
      ],
      "source": [
        "print(f\"ROW COUNTS:\\nBefore removing duplicates(rows, columns): {reviews.shape}\")\n",
        "\n",
        "#Removing the duplicates rows\n",
        "reviews = reviews.drop_duplicates(subset=['Summary', 'Text'], keep = 'first')\n",
        "\n",
        "print(f\"After removing duplicates(rows, columns): {reviews.shape}\")"
      ]
    },
    {
      "cell_type": "code",
      "execution_count": null,
      "id": "d7c22c03-e032-4445-aa38-9665cbcf4a29",
      "metadata": {
        "id": "d7c22c03-e032-4445-aa38-9665cbcf4a29",
        "outputId": "3f695b6f-5b32-4ff7-f83a-b32147f055e9"
      },
      "outputs": [
        {
          "name": "stdout",
          "output_type": "stream",
          "text": [
            "ROW COUNTS:\n",
            "Before removing duplicates(rows, columns): (394970, 3)\n",
            "After removing duplicates(rows, columns): (394970, 3)\n"
          ]
        }
      ],
      "source": [
        "print(f\"ROW COUNTS:\\nBefore removing duplicates(rows, columns): {reviews.shape}\")\n",
        "\n",
        "#Removing the duplicates rows\n",
        "\n",
        "reviews2 = []\n",
        "reviews2 = reviews.drop_duplicates(subset=['Summary', 'Text', 'Sentiment'], keep = 'first')\n",
        "\n",
        "print(f\"After removing duplicates(rows, columns): {reviews2.shape}\")"
      ]
    },
    {
      "cell_type": "code",
      "execution_count": null,
      "id": "22f9233c",
      "metadata": {
        "id": "22f9233c",
        "outputId": "ecd6b1a6-02ee-40ad-985e-4c3ee9460937"
      },
      "outputs": [
        {
          "data": {
            "text/html": [
              "<div>\n",
              "<style scoped>\n",
              "    .dataframe tbody tr th:only-of-type {\n",
              "        vertical-align: middle;\n",
              "    }\n",
              "\n",
              "    .dataframe tbody tr th {\n",
              "        vertical-align: top;\n",
              "    }\n",
              "\n",
              "    .dataframe thead th {\n",
              "        text-align: right;\n",
              "    }\n",
              "</style>\n",
              "<table border=\"1\" class=\"dataframe\">\n",
              "  <thead>\n",
              "    <tr style=\"text-align: right;\">\n",
              "      <th></th>\n",
              "      <th>Text</th>\n",
              "      <th>Sentiment</th>\n",
              "    </tr>\n",
              "  </thead>\n",
              "  <tbody>\n",
              "    <tr>\n",
              "      <th>0</th>\n",
              "      <td>Good Quality Dog Food I have bought several of...</td>\n",
              "      <td>2</td>\n",
              "    </tr>\n",
              "    <tr>\n",
              "      <th>1</th>\n",
              "      <td>Not as Advertised Product arrived labeled as J...</td>\n",
              "      <td>0</td>\n",
              "    </tr>\n",
              "    <tr>\n",
              "      <th>2</th>\n",
              "      <td>\"Delight\" says it all This is a confection tha...</td>\n",
              "      <td>2</td>\n",
              "    </tr>\n",
              "    <tr>\n",
              "      <th>3</th>\n",
              "      <td>Cough Medicine If you are looking for the secr...</td>\n",
              "      <td>0</td>\n",
              "    </tr>\n",
              "    <tr>\n",
              "      <th>4</th>\n",
              "      <td>Great taffy Great taffy at a great price.  The...</td>\n",
              "      <td>2</td>\n",
              "    </tr>\n",
              "  </tbody>\n",
              "</table>\n",
              "</div>"
            ],
            "text/plain": [
              "                                                Text  Sentiment\n",
              "0  Good Quality Dog Food I have bought several of...          2\n",
              "1  Not as Advertised Product arrived labeled as J...          0\n",
              "2  \"Delight\" says it all This is a confection tha...          2\n",
              "3  Cough Medicine If you are looking for the secr...          0\n",
              "4  Great taffy Great taffy at a great price.  The...          2"
            ]
          },
          "execution_count": 14,
          "metadata": {},
          "output_type": "execute_result"
        }
      ],
      "source": [
        "#Concatenating the \"Text\" and \"Summary\" columns with a blank space in between.\n",
        "reviews['Text'] = reviews['Summary'] + \" \" + reviews['Text']\n",
        "\n",
        "#Dropping/removing the Summary column\n",
        "reviews.drop(['Summary'], axis=1, inplace=True)\n",
        "reviews.head()"
      ]
    },
    {
      "cell_type": "markdown",
      "id": "c05084c3",
      "metadata": {
        "id": "c05084c3"
      },
      "source": [
        "### Regular Expressions (RegEx):\n",
        "- I've already removed the rest of the unnecessary columns earlier hence I'll proceed with cleaning the text now that the columns are dealth with.\n",
        "- I'll be converting text to lowercase. I'll also be removing website hyperlinks, HTML Tags, special characters, newline characters and words containing numbers using the 'Regular Expressions' syntax. Regular Expressions (RegEx) are special sequences used to find or match patterns in strings."
      ]
    },
    {
      "cell_type": "code",
      "execution_count": null,
      "id": "48c23557",
      "metadata": {
        "id": "48c23557"
      },
      "outputs": [],
      "source": [
        "#Using RegEx for text cleaning\n",
        "\n",
        "def text_cleaning(text):\n",
        "\n",
        "    #Converting text to lowercase\n",
        "    text = str(text).lower()\n",
        "\n",
        "    #Removing web links\n",
        "    text = re.sub('https?://\\S+|www\\.\\S+', '', text)\n",
        "\n",
        "    #Removing HTML tags\n",
        "    text = re.sub('<.*?>+', '', text)\n",
        "\n",
        "    #Removing special characters (for example: '\\n')\n",
        "    text = re.sub('[%s]' % re.escape(string.punctuation), '', text)\n",
        "\n",
        "    #Removing newline characters\n",
        "    text = re.sub('\\n', '', text)\n",
        "\n",
        "    #Removing words containing numbers\n",
        "    text = re.sub('\\w*\\d\\w*', '', text)\n",
        "    return text"
      ]
    },
    {
      "cell_type": "code",
      "execution_count": null,
      "id": "7cca9fe7",
      "metadata": {
        "id": "7cca9fe7"
      },
      "outputs": [],
      "source": [
        "#Applying the function to each element of the row 'Text'\n",
        "reviews['Text'] = reviews['Text'].astype(str).apply(lambda a: text_cleaning(a))"
      ]
    },
    {
      "cell_type": "code",
      "execution_count": null,
      "id": "bb32f1e2",
      "metadata": {
        "id": "bb32f1e2",
        "outputId": "1dfe3187-1bd3-41f8-93f9-9f4be9207314"
      },
      "outputs": [
        {
          "data": {
            "text/html": [
              "<div>\n",
              "<style scoped>\n",
              "    .dataframe tbody tr th:only-of-type {\n",
              "        vertical-align: middle;\n",
              "    }\n",
              "\n",
              "    .dataframe tbody tr th {\n",
              "        vertical-align: top;\n",
              "    }\n",
              "\n",
              "    .dataframe thead th {\n",
              "        text-align: right;\n",
              "    }\n",
              "</style>\n",
              "<table border=\"1\" class=\"dataframe\">\n",
              "  <thead>\n",
              "    <tr style=\"text-align: right;\">\n",
              "      <th></th>\n",
              "      <th>Text</th>\n",
              "      <th>Sentiment</th>\n",
              "    </tr>\n",
              "  </thead>\n",
              "  <tbody>\n",
              "    <tr>\n",
              "      <th>0</th>\n",
              "      <td>good quality dog food i have bought several of...</td>\n",
              "      <td>2</td>\n",
              "    </tr>\n",
              "    <tr>\n",
              "      <th>1</th>\n",
              "      <td>not as advertised product arrived labeled as j...</td>\n",
              "      <td>0</td>\n",
              "    </tr>\n",
              "    <tr>\n",
              "      <th>2</th>\n",
              "      <td>delight says it all this is a confection that ...</td>\n",
              "      <td>2</td>\n",
              "    </tr>\n",
              "    <tr>\n",
              "      <th>3</th>\n",
              "      <td>cough medicine if you are looking for the secr...</td>\n",
              "      <td>0</td>\n",
              "    </tr>\n",
              "    <tr>\n",
              "      <th>4</th>\n",
              "      <td>great taffy great taffy at a great price  ther...</td>\n",
              "      <td>2</td>\n",
              "    </tr>\n",
              "  </tbody>\n",
              "</table>\n",
              "</div>"
            ],
            "text/plain": [
              "                                                Text  Sentiment\n",
              "0  good quality dog food i have bought several of...          2\n",
              "1  not as advertised product arrived labeled as j...          0\n",
              "2  delight says it all this is a confection that ...          2\n",
              "3  cough medicine if you are looking for the secr...          0\n",
              "4  great taffy great taffy at a great price  ther...          2"
            ]
          },
          "execution_count": 17,
          "metadata": {},
          "output_type": "execute_result"
        }
      ],
      "source": [
        "reviews.head(n=5)"
      ]
    },
    {
      "cell_type": "markdown",
      "id": "79a592c7-469c-42b5-a5f3-df280dc4c107",
      "metadata": {
        "id": "79a592c7-469c-42b5-a5f3-df280dc4c107"
      },
      "source": [
        "### Tokenization, Lemmatization, and Stop Word Removal.\n",
        "Typically, stop words happen to include negative Sentiments like 'hasn't' without which, the whole senitment of a piece of text will be inverted and wouldn't be in line with the target variable (Sentiment). Hence, I'll be omitting common negaqtive sentiment words dureing the stop word removal process."
      ]
    },
    {
      "cell_type": "code",
      "execution_count": null,
      "id": "186f9524-e6bd-49ce-8e00-11adddaa2d91",
      "metadata": {
        "id": "186f9524-e6bd-49ce-8e00-11adddaa2d91"
      },
      "outputs": [],
      "source": [
        "#Loading the English language model 'en_core_web_sm' using the spaCy library,\n",
        "nlp = spacy.load(\"en_core_web_sm\")\n",
        "\n",
        "#A list of negative senitments to be excluded from 'stop words' removal.\n",
        "negative_sentiments = [\"no\", \"not\", \"never\", \"none\", \"nobody\", \"nothing\", \"nowhere\", \"neither\", \"nor\",\n",
        "                       \"n't\", \"cannot\", \"can't\", \"didn't\", \"doesn't\", \"don't\", \"aren't\", \"isn't\", \"wasn't\", \"weren't\",\n",
        "                       \"haven't\", \"hasn't\", \"hadn't\", \"won't\", \"wouldn't\", \"shan't\", \"shouldn't\", \"mustn't\"]"
      ]
    },
    {
      "cell_type": "code",
      "execution_count": null,
      "id": "6b7c177b-10be-4f21-a49e-84131ce97eb0",
      "metadata": {
        "id": "6b7c177b-10be-4f21-a49e-84131ce97eb0"
      },
      "outputs": [],
      "source": [
        "# Tokenization, Lemmatization, and Stop Word Removal.\n",
        "def process_text(text):\n",
        "    doc = nlp(text)\n",
        "    stop_words = spacy.lang.en.stop_words.STOP_WORDS\n",
        "    for exclude in negative_sentiments:\n",
        "        stop_words.discard(exclude)\n",
        "\n",
        "    tokens = [token.lemma_.lower() for token in doc if token.lemma_.lower() and token.lemma_.isalpha() not in stop_words]\n",
        "\n",
        "# Combining tokens into a single string\n",
        "    return ' '.join(tokens)"
      ]
    },
    {
      "cell_type": "code",
      "execution_count": null,
      "id": "7148c994-417c-4379-ac2a-ef81ccf36c73",
      "metadata": {
        "id": "7148c994-417c-4379-ac2a-ef81ccf36c73"
      },
      "outputs": [],
      "source": [
        "#Applying the processing and saving the result in a new column\n",
        "reviews['Cleaned_review'] = reviews['Text'].apply(process_text)\n",
        "reviews.drop('Text', axis=1, inplace=True)"
      ]
    },
    {
      "cell_type": "markdown",
      "id": "ff9f8206-c5b5-4609-87e7-52ef4c0fabe9",
      "metadata": {
        "id": "ff9f8206-c5b5-4609-87e7-52ef4c0fabe9"
      },
      "source": [
        "### POS Tagging\n",
        "Tokens:\n",
        "- token.text: Represents the actual text of an individual token in the processed text. Each word, punctuation mark, or whitespace is a token.\n",
        "- token.label_: Represents the part-of-speech (POS) tag of the token. POS tagging assigns a grammatical category (e.g., noun, verb, adjective) to each token."
      ]
    },
    {
      "cell_type": "code",
      "execution_count": null,
      "id": "0ac621d8-07d6-4673-a6e9-543dbda617a5",
      "metadata": {
        "id": "0ac621d8-07d6-4673-a6e9-543dbda617a5"
      },
      "outputs": [],
      "source": [
        "def pos_tagger(text):\n",
        "    doc = nlp(text)\n",
        "    pos = [token.text + ' ' + token.pos_ for token in doc]\n",
        "    return ' '.join(pos)"
      ]
    },
    {
      "cell_type": "code",
      "execution_count": null,
      "id": "1af5d720-e8f3-41d1-8e5f-2ff735064bdb",
      "metadata": {
        "id": "1af5d720-e8f3-41d1-8e5f-2ff735064bdb"
      },
      "outputs": [],
      "source": [
        "reviews['POS_tags'] = reviews['Cleaned_review'].apply(pos_tagger)"
      ]
    },
    {
      "cell_type": "markdown",
      "id": "496e7e27-4aca-4de7-8671-17ea46b323c0",
      "metadata": {
        "id": "496e7e27-4aca-4de7-8671-17ea46b323c0"
      },
      "source": [
        "### Named Entity Recognition (NER)\n",
        "\n",
        "2. Etities (ents):\n",
        "- ent.text: Represents the actual text of the named entity. Named entities are spans of tokens that form a single meaningful entity, such as a person's name, organization, location, etc.\n",
        "- ent.label_: Represents the named entity label or category. It specifies the type of entity that SpaCy has identified (e.g., PERSON, ORGANIZATION, LOCATION)."
      ]
    },
    {
      "cell_type": "code",
      "execution_count": null,
      "id": "c656da6b-45e8-4c6e-b49a-678f3e344b13",
      "metadata": {
        "id": "c656da6b-45e8-4c6e-b49a-678f3e344b13"
      },
      "outputs": [],
      "source": [
        "def ner_tagger(text):\n",
        "    doc = nlp(text)\n",
        "    ner = [ent.text + ' ' + ent.label_ for ent in doc.ents]\n",
        "    return ' '.join(ner)"
      ]
    },
    {
      "cell_type": "code",
      "execution_count": null,
      "id": "2598effb-7757-40eb-8dc0-b2fec57e21aa",
      "metadata": {
        "id": "2598effb-7757-40eb-8dc0-b2fec57e21aa"
      },
      "outputs": [],
      "source": [
        "reviews['NER_tags'] = reviews['Cleaned_review'].apply(ner_tagger)"
      ]
    },
    {
      "cell_type": "code",
      "execution_count": null,
      "id": "19aa1606-bf49-41d4-967d-873a83ba2b44",
      "metadata": {
        "id": "19aa1606-bf49-41d4-967d-873a83ba2b44"
      },
      "outputs": [],
      "source": [
        "Concatenating elements into a space seperated single string.\n",
        "reviews['NER_tags'].apply(lambda x: ' '.join(x))"
      ]
    },
    {
      "cell_type": "markdown",
      "id": "ed69d2aa-b0b6-4fd3-8465-c64117cf4eb4",
      "metadata": {
        "id": "ed69d2aa-b0b6-4fd3-8465-c64117cf4eb4"
      },
      "source": [
        "Since quite a lot of the reviews don't have any entities in them, a lot of the data in that column are empty. I can't simply impute the values as of course, they aren't numeric values. Hence, I'll be including it anyway.\n",
        "(Upon modeling, I observed a slightly higher accuracy with the NER_tags column compared to when it was excluded which is interesting. Hence I decided to keep it after all)."
      ]
    },
    {
      "cell_type": "code",
      "execution_count": null,
      "id": "f5c9e01f-6e25-4ca9-834d-f546e9a01056",
      "metadata": {
        "id": "f5c9e01f-6e25-4ca9-834d-f546e9a01056"
      },
      "outputs": [],
      "source": [
        "#Saving progress\n",
        "with open('lem_pos_ner_df.pkl', 'wb') as file:\n",
        "    pickle.dump(reviews, file)"
      ]
    },
    {
      "cell_type": "code",
      "execution_count": null,
      "id": "7b8431fa-9eb9-4660-81f2-f476120e01e6",
      "metadata": {
        "id": "7b8431fa-9eb9-4660-81f2-f476120e01e6",
        "outputId": "5774596a-c073-44d6-e4ac-2293baabd836"
      },
      "outputs": [
        {
          "data": {
            "text/html": [
              "<div>\n",
              "<style scoped>\n",
              "    .dataframe tbody tr th:only-of-type {\n",
              "        vertical-align: middle;\n",
              "    }\n",
              "\n",
              "    .dataframe tbody tr th {\n",
              "        vertical-align: top;\n",
              "    }\n",
              "\n",
              "    .dataframe thead th {\n",
              "        text-align: right;\n",
              "    }\n",
              "</style>\n",
              "<table border=\"1\" class=\"dataframe\">\n",
              "  <thead>\n",
              "    <tr style=\"text-align: right;\">\n",
              "      <th></th>\n",
              "      <th>Sentiment</th>\n",
              "      <th>Cleaned_review</th>\n",
              "      <th>POS_tags</th>\n",
              "      <th>NER_tags</th>\n",
              "    </tr>\n",
              "  </thead>\n",
              "  <tbody>\n",
              "    <tr>\n",
              "      <th>0</th>\n",
              "      <td>2</td>\n",
              "      <td>good quality dog food buy vitality dog food pr...</td>\n",
              "      <td>good ADJ quality NOUN dog NOUN food NOUN buy V...</td>\n",
              "      <td>labrador finicky PERSON</td>\n",
              "    </tr>\n",
              "    <tr>\n",
              "      <th>1</th>\n",
              "      <td>0</td>\n",
              "      <td>not advertised product arrive label jumbo salt...</td>\n",
              "      <td>not PART advertised VERB product NOUN arrive N...</td>\n",
              "      <td></td>\n",
              "    </tr>\n",
              "  </tbody>\n",
              "</table>\n",
              "</div>"
            ],
            "text/plain": [
              "   Sentiment                                     Cleaned_review  \\\n",
              "0          2  good quality dog food buy vitality dog food pr...   \n",
              "1          0  not advertised product arrive label jumbo salt...   \n",
              "\n",
              "                                            POS_tags                 NER_tags  \n",
              "0  good ADJ quality NOUN dog NOUN food NOUN buy V...  labrador finicky PERSON  \n",
              "1  not PART advertised VERB product NOUN arrive N...                           "
            ]
          },
          "execution_count": 22,
          "metadata": {},
          "output_type": "execute_result"
        }
      ],
      "source": [
        "#Loading the saved dataframe\n",
        "with open('/Users/vedansh/Documents/Projects/Internship 1/Project Datasets/lem_pos_ner_df.pkl', 'rb') as file:\n",
        "    reviews = pickle.load(file)\n",
        "reviews.head(n=2)"
      ]
    },
    {
      "cell_type": "markdown",
      "id": "b6865732-062c-415d-9183-d0e4dd2e58e5",
      "metadata": {
        "id": "b6865732-062c-415d-9183-d0e4dd2e58e5"
      },
      "source": [
        "### Text Vectorization and normalization"
      ]
    },
    {
      "cell_type": "code",
      "execution_count": null,
      "id": "dfe3acff-eb81-4281-b567-7dc23a5fb301",
      "metadata": {
        "id": "dfe3acff-eb81-4281-b567-7dc23a5fb301"
      },
      "outputs": [],
      "source": [
        "#Explaination of the parameters:\n",
        "#'max_features': Specifies the maximum number of unique terms or n-grams (5000 in this case).\n",
        "#'ngram_range': It'sapplied to consider both bigrams and trigrams.\n",
        "#dtype: It specifies the data type of the output matrix.\n",
        "#norm: Each output row (document) will be normalized to have a Euclidean norm of 1.\n",
        "#'lowercase': Considering uppercase characters of the NER_tags columns as well.\n",
        "tfidf = TfidfVectorizer(max_features = 5000, ngram_range = (2, 3), dtype = np.float64, norm = 'l2', lowercase = False)\n",
        "\n",
        "rev = tfidf.fit_transform(reviews['Cleaned_review'])\n",
        "pos = tfidf.transform(reviews['POS_tags'])\n",
        "ner = tfidf.transform(reviews['NER_tags'])\n",
        "X = hstack([rev, pos, ner])"
      ]
    },
    {
      "cell_type": "markdown",
      "id": "b5c4797d-4c46-46cf-80ae-57a708097240",
      "metadata": {
        "id": "b5c4797d-4c46-46cf-80ae-57a708097240"
      },
      "source": [
        "Note:\n",
        "- N-grams are sequences of n items extracted from a text. They capture local patterns and dependencies within the text.\n",
        "- 'ngram_range' being (2, 3) means that the vectorizer will consider both bigrams (2-grams) and trigrams (3-grams) so that the model captures not only individual words but also pairs and triplets of consecutive words.\n",
        "- TF-IDF matrices, X_train_tfidf and X_test_tfidf, are stored as sparse matrices in the compressed sparse row (CSR) format. These matrices are memory-efficient representations of sparse data, where most of the entries are zero."
      ]
    },
    {
      "cell_type": "code",
      "execution_count": null,
      "id": "62913c96-361c-4510-a8bf-0afca5741a69",
      "metadata": {
        "id": "62913c96-361c-4510-a8bf-0afca5741a69"
      },
      "outputs": [],
      "source": [
        "y = reviews['Sentiment']"
      ]
    },
    {
      "cell_type": "code",
      "execution_count": null,
      "id": "a80dea62-e798-47aa-b289-77187308eca9",
      "metadata": {
        "id": "a80dea62-e798-47aa-b289-77187308eca9",
        "outputId": "2aa84c66-71d8-4d6f-e5fb-78861b8bef64"
      },
      "outputs": [
        {
          "name": "stdout",
          "output_type": "stream",
          "text": [
            "X TFIDF shape: (394970, 15000)\n",
            "y shape: (394970,)\n"
          ]
        }
      ],
      "source": [
        "print(\"X TFIDF shape:\", X.shape)\n",
        "print(\"y shape:\", y.shape)"
      ]
    },
    {
      "cell_type": "markdown",
      "id": "3801ab75-fd2f-45f6-9c0c-0045d00327b5",
      "metadata": {
        "id": "3801ab75-fd2f-45f6-9c0c-0045d00327b5"
      },
      "source": [
        "### Class balancing"
      ]
    },
    {
      "cell_type": "code",
      "execution_count": null,
      "id": "a4198fc5-fc3e-46aa-b29d-e4ec58566e41",
      "metadata": {
        "id": "a4198fc5-fc3e-46aa-b29d-e4ec58566e41",
        "outputId": "3d6e1ef2-96c5-4c6e-9662-cf7a6ee36cc9"
      },
      "outputs": [
        {
          "data": {
            "text/plain": [
              "Sentiment\n",
              "2    307787\n",
              "0     57346\n",
              "1     29837\n",
              "Name: count, dtype: int64"
            ]
          },
          "execution_count": 26,
          "metadata": {},
          "output_type": "execute_result"
        }
      ],
      "source": [
        "#Inspecting the balance of the 3 classes in the target variable\n",
        "y.value_counts()"
      ]
    },
    {
      "cell_type": "markdown",
      "id": "f06945b9-1b48-4da8-8437-209cca99b728",
      "metadata": {
        "id": "f06945b9-1b48-4da8-8437-209cca99b728"
      },
      "source": [
        "Observation:\n",
        "- A severly unbalanced dataset which if fed to a ML model might lead to overfitting or underfitting. Hence I'll be balancing these classes.\n",
        "- The count of positive sentiment reviews (class '2') is the highest while that of the negative sentiment reviews (class '0') is the lowest."
      ]
    },
    {
      "cell_type": "code",
      "execution_count": null,
      "id": "137f549b-e4fd-4b78-b58a-dd89a265fef1",
      "metadata": {
        "id": "137f549b-e4fd-4b78-b58a-dd89a265fef1"
      },
      "outputs": [],
      "source": [
        "#Saving the result to a variable\n",
        "before_balancing = y.value_counts()"
      ]
    },
    {
      "cell_type": "markdown",
      "id": "e4821199-128c-42ee-ad27-b72f37807d91",
      "metadata": {
        "id": "e4821199-128c-42ee-ad27-b72f37807d91"
      },
      "source": [
        "I'll be using SMOTE (Synthetic Minority Over-sampling Technique) whihch is a technique to address class inbalance in a dataset. It generates the virtual training records by linear interpolation for the minority class.\n",
        "\n",
        "I'll be applying resampling merely to the training set to ensure that the model learns to recognize patterns from all classes adequately to avoid biased evaluation of the model's performance on the train set."
      ]
    },
    {
      "cell_type": "code",
      "execution_count": null,
      "id": "e0006480-edcf-43c3-b3bb-82b8ed995cbd",
      "metadata": {
        "id": "e0006480-edcf-43c3-b3bb-82b8ed995cbd"
      },
      "outputs": [],
      "source": [
        "def split_resample (X, y):\n",
        "    X_train, X_test, y_train, y_test = train_test_split(X, y, test_size=0.1, random_state=65)\n",
        "    smote = SMOTE(random_state=75)\n",
        "    X_train_resample, y_train_resample = smote.fit_resample(X_train, y_train)\n",
        "    return X_train_resample, X_test, y_train_resample, y_test"
      ]
    },
    {
      "cell_type": "code",
      "execution_count": null,
      "id": "7a330fa5-b780-47e3-a51e-72c4cb3b9911",
      "metadata": {
        "id": "7a330fa5-b780-47e3-a51e-72c4cb3b9911"
      },
      "outputs": [],
      "source": [
        "X_train_resample, X_test, y_train_resample, y_test = split_resample(X,y)"
      ]
    },
    {
      "cell_type": "code",
      "execution_count": null,
      "id": "5b9b9012-22a7-4bed-b75f-4712544174b0",
      "metadata": {
        "id": "5b9b9012-22a7-4bed-b75f-4712544174b0",
        "outputId": "3dc63cb7-6fb1-4eb3-a175-175876257caf"
      },
      "outputs": [
        {
          "name": "stdout",
          "output_type": "stream",
          "text": [
            "VALUE COUNT OF SENTIMENTS\n",
            "Before balancing:\n",
            "Sentiment\n",
            "2    307787\n",
            "0     57346\n",
            "1     29837\n",
            "Name: count, dtype: int64\n",
            "\n",
            "After balancing:\n",
            "Sentiment\n",
            "2    277161\n",
            "1    277161\n",
            "0    277161\n",
            "Name: count, dtype: int64\n"
          ]
        }
      ],
      "source": [
        "print(f\"VALUE COUNT OF SENTIMENTS\\nBefore balancing:\\n{before_balancing}\\n\\nAfter balancing:\\n{y_train_resample.value_counts()}\")"
      ]
    },
    {
      "cell_type": "code",
      "execution_count": null,
      "id": "311f0969-6118-4c85-a7db-92d51e16da68",
      "metadata": {
        "id": "311f0969-6118-4c85-a7db-92d51e16da68",
        "outputId": "522d21e1-2733-409c-9107-7904ca92036d"
      },
      "outputs": [
        {
          "data": {
            "text/plain": [
              "(831483, 15000)"
            ]
          },
          "execution_count": 31,
          "metadata": {},
          "output_type": "execute_result"
        }
      ],
      "source": [
        "X_train_resample.shape"
      ]
    },
    {
      "cell_type": "code",
      "execution_count": null,
      "id": "3c6c5e49-d146-479f-ba27-33bdb6d31fef",
      "metadata": {
        "id": "3c6c5e49-d146-479f-ba27-33bdb6d31fef",
        "outputId": "557cdf0c-f4b7-46d5-801f-2e7018c3a77e"
      },
      "outputs": [
        {
          "data": {
            "text/plain": [
              "(831483,)"
            ]
          },
          "execution_count": 32,
          "metadata": {},
          "output_type": "execute_result"
        }
      ],
      "source": [
        "y_train_resample.shape"
      ]
    },
    {
      "cell_type": "markdown",
      "id": "55ec5af2-e4a7-4997-b2d6-ceb469c38103",
      "metadata": {
        "id": "55ec5af2-e4a7-4997-b2d6-ceb469c38103"
      },
      "source": [
        "# Stage 3: MODEL BUILDING AND TRAINING <a id=\"section-four\"></a>\n",
        "Objectives:\n",
        "- Train and Validaiton set split\n",
        "- Implementing the various models"
      ]
    },
    {
      "cell_type": "markdown",
      "id": "49127362-c00d-4539-ad27-25298c84771e",
      "metadata": {
        "id": "49127362-c00d-4539-ad27-25298c84771e"
      },
      "source": [
        "### Train and validation set split"
      ]
    },
    {
      "cell_type": "code",
      "execution_count": null,
      "id": "297a21b9-8984-4290-80ee-db0ccc40262f",
      "metadata": {
        "id": "297a21b9-8984-4290-80ee-db0ccc40262f"
      },
      "outputs": [],
      "source": [
        "#StratifiedKFold cross validation\n",
        "def skfold(X, y):\n",
        "    skfold = StratifiedKFold(n_splits=5, shuffle=True, random_state=56)\n",
        "    for train_index, val_index in skfold.split(X, y):\n",
        "        X_train, X_val = X[train_index], X[val_index]\n",
        "        y_train, y_val = np.array(y)[train_index], np.array(y)[val_index]\n",
        "    return X_train, X_val, y_train, y_val"
      ]
    },
    {
      "cell_type": "code",
      "execution_count": null,
      "id": "ec7e4de4-822e-495e-9559-8c64a9f949bc",
      "metadata": {
        "id": "ec7e4de4-822e-495e-9559-8c64a9f949bc"
      },
      "outputs": [],
      "source": [
        "X_train, X_val, y_train, y_val = skfold(X_train_resample, y_train_resample)"
      ]
    },
    {
      "cell_type": "markdown",
      "id": "a4a52a0e-8d05-438a-9dca-62d1e3ec2036",
      "metadata": {
        "id": "a4a52a0e-8d05-438a-9dca-62d1e3ec2036"
      },
      "source": [
        "Note: Typically, models are trained within a cross validation loop but that makes hyper-tuning difficult cumbersome and computational expensive. I wanted to train the models separately using Stratified Kfold validation but using it within each model separately would make the comparions of models unreliable hence I'll simply be defining the train and val splits separately."
      ]
    },
    {
      "cell_type": "markdown",
      "id": "42827b2d-ebe4-4438-bac5-bc0d7c6bfe7b",
      "metadata": {
        "id": "42827b2d-ebe4-4438-bac5-bc0d7c6bfe7b"
      },
      "source": [
        "## Implementing the models"
      ]
    },
    {
      "cell_type": "markdown",
      "id": "9357674d-ac46-43b8-8f5a-ef57aecb34b1",
      "metadata": {
        "id": "9357674d-ac46-43b8-8f5a-ef57aecb34b1"
      },
      "source": [
        "#### Logistic Regression Classifier"
      ]
    },
    {
      "cell_type": "code",
      "execution_count": null,
      "id": "350ab67d-5818-48c0-be06-299eac054f37",
      "metadata": {
        "id": "350ab67d-5818-48c0-be06-299eac054f37",
        "outputId": "841c4d1c-2aa3-4f05-ef77-ad87a700a215"
      },
      "outputs": [
        {
          "name": "stdout",
          "output_type": "stream",
          "text": [
            "///////////////////////////////////////////////////////\n",
            "\n",
            "RESULTS FOR LOGISTIC REGRESSION:\n",
            "Accuracy on Validation Set: 0.72\n",
            "\n",
            "CLASSIFICATION REPORT:\n",
            "\n",
            "              precision    recall  f1-score   support\n",
            "\n",
            "           0       0.72      0.66      0.69     55432\n",
            "           1       0.63      0.70      0.66     55432\n",
            "           2       0.81      0.79      0.80     55432\n",
            "\n",
            "    accuracy                           0.72    166296\n",
            "   macro avg       0.72      0.72      0.72    166296\n",
            "weighted avg       0.72      0.72      0.72    166296\n",
            "\n",
            "///////////////////////////////////////////////////////\n"
          ]
        }
      ],
      "source": [
        "lr = LogisticRegression(max_iter=1300, random_state =22)\n",
        "\n",
        "#Training on train set and then testing on validation set\n",
        "lr.fit(X_train, y_train)\n",
        "y_val_pred_lr = lr.predict(X_val)\n",
        "acc_val_lr = accuracy_score(y_val, y_val_pred_lr)\n",
        "\n",
        "#Results\n",
        "print(\"/\"*55)\n",
        "print(\"\\nRESULTS FOR LOGISTIC REGRESSION:\")\n",
        "print(f\"Accuracy on Validation Set: {acc_val_lr:.2f}\")\n",
        "print(f\"\\nCLASSIFICATION REPORT:\\n\\n{classification_report(y_val, y_val_pred_lr)}\")\n",
        "print(\"/\"*55)"
      ]
    },
    {
      "cell_type": "markdown",
      "id": "c0e51a78-b441-4a4e-828d-000883ad3384",
      "metadata": {
        "id": "c0e51a78-b441-4a4e-828d-000883ad3384"
      },
      "source": [
        "#### Decision Tree Classifier"
      ]
    },
    {
      "cell_type": "code",
      "execution_count": null,
      "id": "e6069a69-f7db-4496-b6e2-9b6657022217",
      "metadata": {
        "id": "e6069a69-f7db-4496-b6e2-9b6657022217",
        "outputId": "ae5a5600-2e88-424e-bd20-0c7312d24809"
      },
      "outputs": [
        {
          "name": "stdout",
          "output_type": "stream",
          "text": [
            "///////////////////////////////////////////////////////\n",
            "\n",
            "RESULTS FOR DECISION TREE CLASSIFIER:\n",
            "Accuracy on Validation Set: 0.83\n",
            "\n",
            "CLASSIFICATION REPORT:\n",
            "\n",
            "              precision    recall  f1-score   support\n",
            "\n",
            "           0       0.81      0.85      0.83     55432\n",
            "           1       0.84      0.87      0.85     55432\n",
            "           2       0.86      0.78      0.82     55432\n",
            "\n",
            "    accuracy                           0.83    166296\n",
            "   macro avg       0.84      0.83      0.83    166296\n",
            "weighted avg       0.84      0.83      0.83    166296\n",
            "\n",
            "///////////////////////////////////////////////////////\n"
          ]
        }
      ],
      "source": [
        "dt = DecisionTreeClassifier(random_state=22)\n",
        "\n",
        "#Training on train set and then testing on validation set\n",
        "dt.fit(X_train, y_train)\n",
        "y_val_pred_dt = dt.predict(X_val)\n",
        "acc_val_dt = accuracy_score(y_val, y_val_pred_dt)\n",
        "\n",
        "print(\"/\"*55)\n",
        "print(\"\\nRESULTS FOR DECISION TREE CLASSIFIER:\")\n",
        "print(f\"Accuracy on Validation Set: {acc_val_dt:.2f}\")\n",
        "print(f\"\\nCLASSIFICATION REPORT:\\n\\n{classification_report(y_val, y_val_pred_dt)}\")\n",
        "print(\"/\"*55)"
      ]
    },
    {
      "cell_type": "markdown",
      "id": "e772f648-265c-4a4e-b09d-aac117beb28c",
      "metadata": {
        "id": "e772f648-265c-4a4e-b09d-aac117beb28c"
      },
      "source": [
        "#### Multinomial Naïve Bayes Classifier"
      ]
    },
    {
      "cell_type": "code",
      "execution_count": null,
      "id": "5dbb7de2-1e65-492d-bb08-c3d88cac3de0",
      "metadata": {
        "id": "5dbb7de2-1e65-492d-bb08-c3d88cac3de0",
        "outputId": "ffe82a1a-c22d-471e-8604-8ad23f3a0b9b"
      },
      "outputs": [
        {
          "name": "stdout",
          "output_type": "stream",
          "text": [
            "///////////////////////////////////////////////////////\n",
            "\n",
            "RESULTS FOR MULTINOMIAL NAIVE BAYES CLASSIFIER:\n",
            "Accuracy on Validation Set: 0.66\n",
            "\n",
            "CLASSIFICATION REPORT:\n",
            "\n",
            "              precision    recall  f1-score   support\n",
            "\n",
            "           0       0.67      0.68      0.67     55432\n",
            "           1       0.60      0.57      0.59     55432\n",
            "           2       0.71      0.74      0.73     55432\n",
            "\n",
            "    accuracy                           0.66    166296\n",
            "   macro avg       0.66      0.66      0.66    166296\n",
            "weighted avg       0.66      0.66      0.66    166296\n",
            "\n",
            "///////////////////////////////////////////////////////\n"
          ]
        }
      ],
      "source": [
        "mnb = MultinomialNB()\n",
        "\n",
        "#Training on train set and then testing on validation set\n",
        "mnb.fit(X_train, y_train)\n",
        "y_val_pred_mnb = mnb.predict(X_val)\n",
        "acc_val_mnb = accuracy_score(y_val, y_val_pred_mnb)\n",
        "\n",
        "# Print results for the current model\n",
        "print(\"/\"*55)\n",
        "print(\"\\nRESULTS FOR MULTINOMIAL NAIVE BAYES CLASSIFIER:\")\n",
        "print(f\"Accuracy on Validation Set: {acc_val_mnb:.2f}\")\n",
        "print(f\"\\nCLASSIFICATION REPORT:\\n\\n{classification_report(y_val, y_val_pred_mnb)}\")\n",
        "print(\"/\"*55)"
      ]
    },
    {
      "cell_type": "markdown",
      "id": "90540932-974b-49bc-a1f1-3cd5fbec4eb8",
      "metadata": {
        "id": "90540932-974b-49bc-a1f1-3cd5fbec4eb8"
      },
      "source": [
        "#### eXtreme Gradient Boost"
      ]
    },
    {
      "cell_type": "code",
      "execution_count": null,
      "id": "24de6c72-d8d2-4d8e-a677-10ba90f4b5c9",
      "metadata": {
        "id": "24de6c72-d8d2-4d8e-a677-10ba90f4b5c9",
        "outputId": "15404b17-2ddf-4317-f9f0-742d1bab3e7d"
      },
      "outputs": [
        {
          "name": "stdout",
          "output_type": "stream",
          "text": [
            "///////////////////////////////////////////////////////\n",
            "\n",
            "RESULTS FOR XG BOOST:\n",
            "Accuracy on Validation Set: 0.66\n",
            "\n",
            "CLASSIFICATION REPORT:\n",
            "\n",
            "              precision    recall  f1-score   support\n",
            "\n",
            "           0       0.73      0.57      0.64     55432\n",
            "           1       0.69      0.53      0.60     55432\n",
            "           2       0.60      0.88      0.72     55432\n",
            "\n",
            "    accuracy                           0.66    166296\n",
            "   macro avg       0.67      0.66      0.65    166296\n",
            "weighted avg       0.67      0.66      0.65    166296\n",
            "\n",
            "///////////////////////////////////////////////////////\n"
          ]
        }
      ],
      "source": [
        "xgb = XGBClassifier()\n",
        "\n",
        "#Training on train set and then testing on validation set\n",
        "xgb.fit(X_train, y_train)\n",
        "y_val_pred_xgb = xgb.predict(X_val)\n",
        "acc_val_xgb = accuracy_score(y_val, y_val_pred_xgb)\n",
        "\n",
        "# Print results for the current model\n",
        "print(\"/\"*55)\n",
        "print(\"\\nRESULTS FOR XG BOOST:\")\n",
        "print(f\"Accuracy on Validation Set: {acc_val_xgb:.2f}\")\n",
        "print(f\"\\nCLASSIFICATION REPORT:\\n\\n{classification_report(y_val, y_val_pred_xgb)}\")\n",
        "print(\"/\"*55)"
      ]
    },
    {
      "cell_type": "markdown",
      "id": "aca293d8-d80c-4b55-9022-680e39d5a387",
      "metadata": {
        "id": "aca293d8-d80c-4b55-9022-680e39d5a387"
      },
      "source": [
        "#### Visualizing the results"
      ]
    },
    {
      "cell_type": "code",
      "execution_count": null,
      "id": "6be4e077-2b7c-4fc8-865b-792891f14e07",
      "metadata": {
        "id": "6be4e077-2b7c-4fc8-865b-792891f14e07"
      },
      "outputs": [],
      "source": [
        "mod_labels = ['Logistic Regression', 'Decision Tree', 'Multinomial NB','eXtreme Gradient Boost']\n",
        "acc = [0.72, 0.83, 0.66, 0.66]"
      ]
    },
    {
      "cell_type": "code",
      "execution_count": null,
      "id": "b3091e54-2bc8-4e78-a100-9ff9c64bd006",
      "metadata": {
        "id": "b3091e54-2bc8-4e78-a100-9ff9c64bd006",
        "outputId": "fd9027f6-c1e4-409b-eaa2-d511730eb468"
      },
      "outputs": [
        {
          "data": {
            "image/png": "[encoded data removed]",
            "text/plain": [
              "<Figure size 1000x600 with 1 Axes>"
            ]
          },
          "metadata": {},
          "output_type": "display_data"
        }
      ],
      "source": [
        "plt.figure(figsize=(10, 6))\n",
        "sns.barplot(x=mod_labels, y=acc, palette='flare')\n",
        "plt.ylim(0, 1)\n",
        "plt.xlabel('Models')\n",
        "plt.ylabel('Accuracy')\n",
        "plt.title('Accuracy Of The Models', fontweight='bold')\n",
        "plt.suptitle('The closer the value is to 1, the better the performance')\n",
        "plt.show()"
      ]
    },
    {
      "cell_type": "markdown",
      "id": "0692a3a2-da10-43f4-91c1-c04f3f8f29d6",
      "metadata": {
        "id": "0692a3a2-da10-43f4-91c1-c04f3f8f29d6"
      },
      "source": [
        "#### Conclusion so far:\n",
        "Since the \"Decision Tree Classifier\" scored the highest accuracy, I'll be using the same for evaluating the result on the test dataset."
      ]
    },
    {
      "cell_type": "code",
      "execution_count": null,
      "id": "6ca6703a-958d-45c2-8bc2-1bf0752e4b22",
      "metadata": {
        "id": "6ca6703a-958d-45c2-8bc2-1bf0752e4b22"
      },
      "outputs": [],
      "source": [
        "#Saving progress\n",
        "with open('final_model.pkl', 'wb') as file:\n",
        "    pickle.dump(dt, file)"
      ]
    },
    {
      "cell_type": "markdown",
      "id": "2e495c6e-8ddf-4bb8-b787-fd5b13c00288",
      "metadata": {
        "id": "2e495c6e-8ddf-4bb8-b787-fd5b13c00288"
      },
      "source": [
        "## Stage 4: MODEL TESTING <a id=\"section-five\"></a>\n",
        "Objectives:\n",
        "- Initializing the selected model.\n",
        "- Test it on the test set."
      ]
    },
    {
      "cell_type": "code",
      "execution_count": null,
      "id": "c4ba6d46-c1ae-4bd4-93ed-22e9410f7bf3",
      "metadata": {
        "id": "c4ba6d46-c1ae-4bd4-93ed-22e9410f7bf3",
        "outputId": "16c4a85c-19d7-4199-89a7-f773b9dd39bd"
      },
      "outputs": [
        {
          "data": {
            "text/html": [
              "<style>#sk-container-id-1 {color: black;}#sk-container-id-1 pre{padding: 0;}#sk-container-id-1 div.sk-toggleable {background-color: white;}#sk-container-id-1 label.sk-toggleable__label {cursor: pointer;display: block;width: 100%;margin-bottom: 0;padding: 0.3em;box-sizing: border-box;text-align: center;}#sk-container-id-1 label.sk-toggleable__label-arrow:before {content: \"▸\";float: left;margin-right: 0.25em;color: #696969;}#sk-container-id-1 label.sk-toggleable__label-arrow:hover:before {color: black;}#sk-container-id-1 div.sk-estimator:hover label.sk-toggleable__label-arrow:before {color: black;}#sk-container-id-1 div.sk-toggleable__content {max-height: 0;max-width: 0;overflow: hidden;text-align: left;background-color: #f0f8ff;}#sk-container-id-1 div.sk-toggleable__content pre {margin: 0.2em;color: black;border-radius: 0.25em;background-color: #f0f8ff;}#sk-container-id-1 input.sk-toggleable__control:checked~div.sk-toggleable__content {max-height: 200px;max-width: 100%;overflow: auto;}#sk-container-id-1 input.sk-toggleable__control:checked~label.sk-toggleable__label-arrow:before {content: \"▾\";}#sk-container-id-1 div.sk-estimator input.sk-toggleable__control:checked~label.sk-toggleable__label {background-color: #d4ebff;}#sk-container-id-1 div.sk-label input.sk-toggleable__control:checked~label.sk-toggleable__label {background-color: #d4ebff;}#sk-container-id-1 input.sk-hidden--visually {border: 0;clip: rect(1px 1px 1px 1px);clip: rect(1px, 1px, 1px, 1px);height: 1px;margin: -1px;overflow: hidden;padding: 0;position: absolute;width: 1px;}#sk-container-id-1 div.sk-estimator {font-family: monospace;background-color: #f0f8ff;border: 1px dotted black;border-radius: 0.25em;box-sizing: border-box;margin-bottom: 0.5em;}#sk-container-id-1 div.sk-estimator:hover {background-color: #d4ebff;}#sk-container-id-1 div.sk-parallel-item::after {content: \"\";width: 100%;border-bottom: 1px solid gray;flex-grow: 1;}#sk-container-id-1 div.sk-label:hover label.sk-toggleable__label {background-color: #d4ebff;}#sk-container-id-1 div.sk-serial::before {content: \"\";position: absolute;border-left: 1px solid gray;box-sizing: border-box;top: 0;bottom: 0;left: 50%;z-index: 0;}#sk-container-id-1 div.sk-serial {display: flex;flex-direction: column;align-items: center;background-color: white;padding-right: 0.2em;padding-left: 0.2em;position: relative;}#sk-container-id-1 div.sk-item {position: relative;z-index: 1;}#sk-container-id-1 div.sk-parallel {display: flex;align-items: stretch;justify-content: center;background-color: white;position: relative;}#sk-container-id-1 div.sk-item::before, #sk-container-id-1 div.sk-parallel-item::before {content: \"\";position: absolute;border-left: 1px solid gray;box-sizing: border-box;top: 0;bottom: 0;left: 50%;z-index: -1;}#sk-container-id-1 div.sk-parallel-item {display: flex;flex-direction: column;z-index: 1;position: relative;background-color: white;}#sk-container-id-1 div.sk-parallel-item:first-child::after {align-self: flex-end;width: 50%;}#sk-container-id-1 div.sk-parallel-item:last-child::after {align-self: flex-start;width: 50%;}#sk-container-id-1 div.sk-parallel-item:only-child::after {width: 0;}#sk-container-id-1 div.sk-dashed-wrapped {border: 1px dashed gray;margin: 0 0.4em 0.5em 0.4em;box-sizing: border-box;padding-bottom: 0.4em;background-color: white;}#sk-container-id-1 div.sk-label label {font-family: monospace;font-weight: bold;display: inline-block;line-height: 1.2em;}#sk-container-id-1 div.sk-label-container {text-align: center;}#sk-container-id-1 div.sk-container {/* jupyter's `normalize.less` sets `[hidden] { display: none; }` but bootstrap.min.css set `[hidden] { display: none !important; }` so we also need the `!important` here to be able to override the default hidden behavior on the sphinx rendered scikit-learn.org. See: https://github.com/scikit-learn/scikit-learn/issues/21755 */display: inline-block !important;position: relative;}#sk-container-id-1 div.sk-text-repr-fallback {display: none;}</style><div id=\"sk-container-id-1\" class=\"sk-top-container\"><div class=\"sk-text-repr-fallback\"><pre>DecisionTreeClassifier(random_state=22)</pre><b>In a Jupyter environment, please rerun this cell to show the HTML representation or trust the notebook. <br />On GitHub, the HTML representation is unable to render, please try loading this page with nbviewer.org.</b></div><div class=\"sk-container\" hidden><div class=\"sk-item\"><div class=\"sk-estimator sk-toggleable\"><input class=\"sk-toggleable__control sk-hidden--visually\" id=\"sk-estimator-id-1\" type=\"checkbox\" checked><label for=\"sk-estimator-id-1\" class=\"sk-toggleable__label sk-toggleable__label-arrow\">DecisionTreeClassifier</label><div class=\"sk-toggleable__content\"><pre>DecisionTreeClassifier(random_state=22)</pre></div></div></div></div></div>"
            ],
            "text/plain": [
              "DecisionTreeClassifier(random_state=22)"
            ]
          },
          "execution_count": 42,
          "metadata": {},
          "output_type": "execute_result"
        }
      ],
      "source": [
        "#Loading the model\n",
        "with open('/Users/vedansh/Documents/Projects/Internship 1/final_model.pkl', 'rb') as file:\n",
        "    final_model = pickle.load(file)\n",
        "final_model"
      ]
    },
    {
      "cell_type": "code",
      "execution_count": null,
      "id": "5f2cf1ab-c33e-4997-89a0-23b96fffb99c",
      "metadata": {
        "id": "5f2cf1ab-c33e-4997-89a0-23b96fffb99c",
        "outputId": "c07b95ab-45f9-44f5-9fa3-5535fef28ac2"
      },
      "outputs": [
        {
          "name": "stdout",
          "output_type": "stream",
          "text": [
            "///////////////////////////////////////////////////////\n",
            "\n",
            "RESULTS OF THE SELECTED MODEL ON THE TEST DATA:\n",
            "Accuracy: 0.99\n",
            "\n",
            "CLASSIFICATION REPORT:\n",
            "\n",
            "              precision    recall  f1-score   support\n",
            "\n",
            "           0       0.99      0.97      0.98      5805\n",
            "           1       0.99      0.98      0.99      3066\n",
            "           2       0.99      1.00      0.99     30626\n",
            "\n",
            "    accuracy                           0.99     39497\n",
            "   macro avg       0.99      0.98      0.99     39497\n",
            "weighted avg       0.99      0.99      0.99     39497\n",
            "\n",
            "///////////////////////////////////////////////////////\n"
          ]
        }
      ],
      "source": [
        "#Fitting the final  model on the test set\n",
        "final_model.fit(X_test, y_test)\n",
        "y_test_pred = final_model.predict(X_test)\n",
        "accuracy = accuracy_score(y_test, y_test_pred)\n",
        "f1_score_test = f1_score(y_test, y_test_pred, average='macro')\n",
        "\n",
        "print(\"/\"*55)\n",
        "print(\"\\nRESULTS OF THE SELECTED MODEL ON THE TEST DATA:\")\n",
        "print(f\"Accuracy: {accuracy:.2f}\")\n",
        "print(f\"\\nCLASSIFICATION REPORT:\\n\\n{classification_report(y_test, y_test_pred)}\")\n",
        "print(\"/\"*55)"
      ]
    },
    {
      "cell_type": "markdown",
      "id": "d8d95f56-7cc9-4d6d-bc60-44e999baebbd",
      "metadata": {
        "id": "d8d95f56-7cc9-4d6d-bc60-44e999baebbd"
      },
      "source": [
        "# Conclusions: <a id=\"section-six\"></a>"
      ]
    },
    {
      "cell_type": "markdown",
      "id": "8dcdb96d-0901-4a77-a89f-827240d49adc",
      "metadata": {
        "id": "8dcdb96d-0901-4a77-a89f-827240d49adc"
      },
      "source": [
        "In this research, I utilized an e-commerce reviews dataset to conduct sentiment analysis. I cleaned the data, ensured the balancing of sentiment classes, transformed the rows into a vectorized, computer-understandable format, and gained the following insights:\n",
        "- Logistic Regression Classifer was 72% accurate in predicting the validation set.\n",
        "- Decision Tree Classifier was 83% accurate in predicting the validation set which makes it the highest among others.\n",
        "- Multinomial Naïve Bayes Classifier and eXtreme Gradient Boost were 66% accurate in predicting the validation set.\n",
        "- For some reason, SVC model always got stuck in a perpetual processing state. Hence I excluded it from the analysis. Hyperparameter tuning didn't help either.\n",
        "- I chose Decision Tree Classifie as the model for final analysis.\n",
        "- Upon analysis on the test set, Decision Tree Classifier achieved 99% accuracy suggesting that the model generalizes well to unseen data."
      ]
    }
  ],
  "metadata": {
    "kernelspec": {
      "display_name": "Python 3 (ipykernel)",
      "language": "python",
      "name": "python3"
    },
    "language_info": {
      "codemirror_mode": {
        "name": "ipython",
        "version": 3
      },
      "file_extension": ".py",
      "mimetype": "text/x-python",
      "name": "python",
      "nbconvert_exporter": "python",
      "pygments_lexer": "ipython3",
      "version": "3.11.5"
    },
    "colab": {
      "provenance": []
    }
  },
  "nbformat": 4,
  "nbformat_minor": 5
}